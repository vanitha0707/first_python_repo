{
 "cells": [
  {
   "cell_type": "code",
   "execution_count": 10,
   "metadata": {},
   "outputs": [
    {
     "name": "stdout",
     "output_type": "stream",
     "text": [
      "['Hai', 'RA2000120001003', ['vanitha', 'Ph.D']]\n"
     ]
    }
   ],
   "source": [
    "class SampleClass:\n",
    "    ls = ['Hai','RA2000120001003',['vanitha']]\n",
    "    def displayList(self):\n",
    "        print(ls)\n",
    "obj=SampleClass()\n",
    "obj.displayList()"
   ]
  }
 ],
 "metadata": {
  "kernelspec": {
   "display_name": "Python 3",
   "language": "python",
   "name": "python3"
  },
  "language_info": {
   "codemirror_mode": {
    "name": "ipython",
    "version": 3
   },
   "file_extension": ".py",
   "mimetype": "text/x-python",
   "name": "python",
   "nbconvert_exporter": "python",
   "pygments_lexer": "ipython3",
   "version": "3.7.1"
  }
 },
 "nbformat": 4,
 "nbformat_minor": 2
}
